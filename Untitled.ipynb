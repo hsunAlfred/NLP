{
 "cells": [
  {
   "cell_type": "code",
   "execution_count": 28,
   "id": "9332dee5-feea-43cb-ac5a-f22f0e56ac6b",
   "metadata": {},
   "outputs": [],
   "source": [
    "import pandas as pd\n",
    "import jieba\n",
    "import jieba.posseg as pseg"
   ]
  },
  {
   "cell_type": "code",
   "execution_count": 29,
   "id": "5cce0a8d-42ed-4b55-9ce3-7cc4eb3cf20f",
   "metadata": {},
   "outputs": [],
   "source": [
    "jieba.set_dictionary('dict.txt.big')"
   ]
  },
  {
   "cell_type": "code",
   "execution_count": 30,
   "id": "bc15a1f5-b2de-4aa8-9760-73bc05f8c9f6",
   "metadata": {},
   "outputs": [
    {
     "data": {
      "text/html": [
       "<div>\n",
       "<style scoped>\n",
       "    .dataframe tbody tr th:only-of-type {\n",
       "        vertical-align: middle;\n",
       "    }\n",
       "\n",
       "    .dataframe tbody tr th {\n",
       "        vertical-align: top;\n",
       "    }\n",
       "\n",
       "    .dataframe thead th {\n",
       "        text-align: right;\n",
       "    }\n",
       "</style>\n",
       "<table border=\"1\" class=\"dataframe\">\n",
       "  <thead>\n",
       "    <tr style=\"text-align: right;\">\n",
       "      <th></th>\n",
       "      <th>comment</th>\n",
       "      <th>star</th>\n",
       "    </tr>\n",
       "  </thead>\n",
       "  <tbody>\n",
       "    <tr>\n",
       "      <th>0</th>\n",
       "      <td>真的很鹹</td>\n",
       "      <td>2</td>\n",
       "    </tr>\n",
       "    <tr>\n",
       "      <th>1</th>\n",
       "      <td>沒有比較沒有傷害啊！！！！</td>\n",
       "      <td>1</td>\n",
       "    </tr>\n",
       "    <tr>\n",
       "      <th>2</th>\n",
       "      <td>服務態度極差</td>\n",
       "      <td>1</td>\n",
       "    </tr>\n",
       "    <tr>\n",
       "      <th>3</th>\n",
       "      <td>曾經是愛店，好吃口味堪稱金山街最佳便當店。但如今已又油又鹹，至少3-4次都這樣了！下次想吃燒...</td>\n",
       "      <td>2</td>\n",
       "    </tr>\n",
       "    <tr>\n",
       "      <th>4</th>\n",
       "      <td>分量少的可憐，現場客人跟外送亂七八糟，把現場客人當白癡晾在一邊</td>\n",
       "      <td>1</td>\n",
       "    </tr>\n",
       "  </tbody>\n",
       "</table>\n",
       "</div>"
      ],
      "text/plain": [
       "                                             comment  star\n",
       "0                                               真的很鹹     2\n",
       "1                                      沒有比較沒有傷害啊！！！！     1\n",
       "2                                             服務態度極差     1\n",
       "3  曾經是愛店，好吃口味堪稱金山街最佳便當店。但如今已又油又鹹，至少3-4次都這樣了！下次想吃燒...     2\n",
       "4                    分量少的可憐，現場客人跟外送亂七八糟，把現場客人當白癡晾在一邊     1"
      ]
     },
     "execution_count": 30,
     "metadata": {},
     "output_type": "execute_result"
    }
   ],
   "source": [
    "corpus='comment test.csv'\n",
    "df = pd.read_csv(corpus, on_bad_lines='skip', encoding='utf-8')\n",
    "df.head()"
   ]
  },
  {
   "cell_type": "code",
   "execution_count": 39,
   "id": "d390d184-19a0-4882-abed-3761f0310be8",
   "metadata": {},
   "outputs": [
    {
     "data": {
      "text/plain": [
       "['真的 很 鹹',\n",
       " '沒有 比較 沒有 傷害 啊 ！ ！ ！ ！',\n",
       " '服務態度 極差',\n",
       " '曾經 是 愛店 ， 好吃 口味 堪稱 金山街 最佳 便當店 。 但 已 鹹 ， 至少 3 - 4 次 都 這樣 了 ！ 想 吃 燒臘 會 換 別家 買 。 希望 有天 回心轉意 再 給 你們 機會 時 已經 改進 。',\n",
       " '分量 少 的 可憐 ， 現場 客人 跟 送 亂七八糟 ， 把 現場 客人 晾 在 一邊',\n",
       " '真的 是 滿 誇張 的 價格 主菜 有點 過 少 一份 95 元 油雞 跟 燒肉 ，',\n",
       " '油雞 是 蠻 不錯 的 但是 骨頭 偏 多 的 雞肉',\n",
       " '燒肉 的 鹽巴 太 多 像是 在 嘴巴 有 一包 鹽巴 炸裂 。',\n",
       " '配菜 ， 飯 難吃 , 主餐 粉 超 多 ， 很 難得 有 這麼 難吃 的 便當',\n",
       " '一個 建議 你 退休 在家 態度 有夠 差',\n",
       " '剛 開店 什麼 都 做 的 不錯 也 好吃 ， 但是 開店 到 也 沒多久 時間 素質 也 掉 太 多 了 ， 變不 好吃 了 就 連 衛生 我 都 覺得 恐怖 ， 請問 一下 掉 用 手 抓 ， 主菜 便當盒 也 用手 抓 ， 用 手 抓 我 可以 接受 阿 但是 妳 剛剛 拿 了 錢 拿 了 菜刀 還 抓 了 黃 到 不行 的 抹布 ， 難道 用 手套 很 難 嗎 ？ 看到 這樣 一點 胃口 都 沒了',\n",
       " '叫 送買 兩份 燒鴨 & 燒肉 便當 一份 正確 、 一份 是 油雞 吃 的 很 痛苦 ， 因為 一點 都 不 喜歡 吃 油雞 希望 店家 可以 出餐 時 檢查 餐點 內容 是否 正確 便當 味道 偏重 主菜 偏少 價格 不 實惠',\n",
       " '老闆 態度 不是 很 好 ， 點 個 油雞 飯 一直 問 我 是不是 要油 雞腿 ， 點 個 配菜 用指 的 也 是 很 不耐煩 說 講 號碼 ， 找錢 也 是 用 丟 的 在 ， 不會 再 買',\n",
       " '二週 去 吃 過 一次 點 了 燒鴨 飯 醬汁 真的 有 鹹 ， 重點 是 切 燒鴨 沒戴 手套 直接 用 手 抓 了 燒鴨 ， 然後 放入 了 我 的 便當 內 ， 這 衛生 真的 不行 誰知 道 你 剛 摸 過 什麼 ， 做 吃 的 衛生 不行 真的 就 無法 了 。',\n",
       " '比 店 貴 ， 主菜 也 給 比較 少 。 住 金山街 ， 燒臘 便當 果然 只有 浩記 還 可以 。',\n",
       " '送 訂單 一堆 也 不 延遲 ， 讓 一堆 司機 在 店 空 等 ！ 人手不足 就別 接 那麼 多 單 ， 浪費 大家 時間',\n",
       " '店員 對 客人 的 態度 很 不好 ， 店員 還 在 打飯 還 沒 打 菜 就 急著 問 哪 幾樣 菜 ， 那時 我 在 算 零錢 ， 跟 店員 說 等 一下 ， 結果 店員 竟然 馬上 回 : 說話 啊 ， 讓 人覺 得來 買 好像 欠 他 一樣 ， 店員 態度 需 再 加強 !',\n",
       " '點 餐 等 很久 結果 是 沒送 單 出去 = =',\n",
       " '剛菜 掉 在 ， 店員 居然 用 他 的 手把 菜 撿起來 ， 重新 放在 我 的 便當 ， 真的 超 噁 、 超 傻眼 ！ 不會 再 去 ！',\n",
       " '送 單的 的 備餐 速度 太慢 了 ， 大概 等 了 20 分鐘 ， 司機 才 開始 送 ， 餓 都 餓死 啦 ， 不會 再 光臨',\n",
       " 'Uber 送 延遲 就算 了 ， 便當 配菜 竟然 是 冰 的',\n",
       " '一看 就 知道 都 是 先 做 公司 訂 的 便當 肉 都 沒了 還 硬切 一小塊 肉 給 客人 .',\n",
       " '配菜 選擇 超級 少 ！ 而且 看起來 還 很 敷衍 ， 豆芽菜 ， 菜脯 那類 的 ， 而且 像 隔餐 的 ， 看 了 就 沒什麼 食慾 。',\n",
       " '小菜 好 鹹 ... 買 給 人 都 說 很 鹹 .... 有待 加強',\n",
       " '了 ， 送 沒有 按照 時間 ， 一拖再拖',\n",
       " '飯 有 ， 整個 感覺 很 差 。',\n",
       " '夾完 菜 夾子 用 丟 的 看 了 就 不 高興',\n",
       " '老闆 直接 咳嗽 到 食物 超級 噁心',\n",
       " '人力不足 等 三十分鐘',\n",
       " '份量 少 又 貴餒',\n",
       " '真的 很 鹹',\n",
       " '沒有 比較 沒有 傷害 啊 ！ ！ ！ ！',\n",
       " '服務態度 極差']"
      ]
     },
     "execution_count": 39,
     "metadata": {},
     "output_type": "execute_result"
    }
   ],
   "source": [
    "X = []\n",
    "for i in df[\"comment\"]:\n",
    "    pc = pseg.lcut(str(i), use_paddle=True)\n",
    "    temp = []\n",
    "    for j in pc:\n",
    "        if tuple(j)[1] not in ('nr', 'nz', 'PER', 'f', 'ns', 'LOC', 's', 'nt', 'ORG', 't', 'nw', 'w', 'TIME'):\n",
    "            temp.append(tuple(j)[0])\n",
    "    X.append(' '.join(temp))\n",
    "X"
   ]
  },
  {
   "cell_type": "code",
   "execution_count": null,
   "id": "bb6726bc-2dc2-4cd1-886c-500eaeb02305",
   "metadata": {},
   "outputs": [],
   "source": []
  },
  {
   "cell_type": "code",
   "execution_count": null,
   "id": "9ff2778d-4dfa-4db8-962a-d4504b22205e",
   "metadata": {},
   "outputs": [],
   "source": []
  }
 ],
 "metadata": {
  "kernelspec": {
   "display_name": "Python 3 (ipykernel)",
   "language": "python",
   "name": "python3"
  },
  "language_info": {
   "codemirror_mode": {
    "name": "ipython",
    "version": 3
   },
   "file_extension": ".py",
   "mimetype": "text/x-python",
   "name": "python",
   "nbconvert_exporter": "python",
   "pygments_lexer": "ipython3",
   "version": "3.8.10"
  }
 },
 "nbformat": 4,
 "nbformat_minor": 5
}
